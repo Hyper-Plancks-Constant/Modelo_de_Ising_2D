{
  "nbformat": 4,
  "nbformat_minor": 0,
  "metadata": {
    "colab": {
      "provenance": []
    },
    "kernelspec": {
      "name": "python3",
      "display_name": "Python 3"
    },
    "language_info": {
      "name": "python"
    }
  },
  "cells": [
    {
      "cell_type": "markdown",
      "source": [
        "# Inicialização das Bibliotecas"
      ],
      "metadata": {
        "id": "YOSCUMrzx8IQ"
      }
    },
    {
      "cell_type": "code",
      "source": [
        "import numpy as np\n",
        "import matplotlib.pyplot as plt"
      ],
      "metadata": {
        "id": "qCzdt1JqyCGP"
      },
      "execution_count": 269,
      "outputs": []
    },
    {
      "cell_type": "markdown",
      "source": [
        "# Parâmetros do Sistema"
      ],
      "metadata": {
        "id": "Hnk4WKfOyD4B"
      }
    },
    {
      "cell_type": "code",
      "source": [
        "L = 20               #Tamanho da Malha\n",
        "T = 1.0              #Temperatura em unidades de ε/k\n",
        "steps = 5000         #Número de passos de Monte Carlo"
      ],
      "metadata": {
        "id": "rsUeuZk9yGR5"
      },
      "execution_count": 270,
      "outputs": []
    },
    {
      "cell_type": "markdown",
      "source": [
        "# Inicialização da Malha\n",
        "\n",
        "A malha é iniciada com 25% de spin up (+1) e 75% de spin down (-1). Posteriormente, os spins up serão representados no gráfico como quadrados pretos e os down como quadrados brancos."
      ],
      "metadata": {
        "id": "CF8qfUzByJmS"
      }
    },
    {
      "cell_type": "code",
      "source": [
        "N = L * L                                 #Linhas x Colunas\n",
        "n_up = int(0.25 * N)                      #Número total de spins up\n",
        "n_down = N - n_up                         #Número total de spins down\n",
        "spins = np.array([1]*n_up + [-1]*n_down)  #Vetor com os spins\n",
        "np.random.shuffle(spins)                  #Inicialização randomizada\n",
        "s = spins.reshape((L, L))                 #O vetor é transformado em uma Matriz L x L\n",
        "\n",
        "#Guarda o estado inicial para exibição no final\n",
        "s_initial = s.copy()"
      ],
      "metadata": {
        "id": "vlaIlLhjyLT8"
      },
      "execution_count": 271,
      "outputs": []
    },
    {
      "cell_type": "markdown",
      "source": [
        "# Função para calcular $\\Delta U$ com condições de contorno periódicas"
      ],
      "metadata": {
        "id": "AM7Sfa4qzH_l"
      }
    },
    {
      "cell_type": "code",
      "source": [
        "def deltaU(s, i, j):\n",
        "    top    = s[(i-1)%L, j]\n",
        "    bottom = s[(i+1)%L, j]\n",
        "    left   = s[i, (j-1)%L]\n",
        "    right  = s[i, (j+1)%L]\n",
        "    return 2 * s[i, j] * (top + bottom + left + right)"
      ],
      "metadata": {
        "id": "Vq3-adFOzN_y"
      },
      "execution_count": 272,
      "outputs": []
    },
    {
      "cell_type": "markdown",
      "source": [
        "# Aplicação do Algoritmo de Metropolis"
      ],
      "metadata": {
        "id": "8uK0jGQDzpjS"
      }
    },
    {
      "cell_type": "code",
      "source": [
        "for _ in range(steps):\n",
        "    i = np.random.randint(0, L)\n",
        "    j = np.random.randint(0, L)\n",
        "    dE = deltaU(s, i, j)\n",
        "    if dE <= 0 or np.random.rand() < np.exp(-dE / T):\n",
        "        s[i, j] *= -1  #Flip do spin"
      ],
      "metadata": {
        "id": "bGSfYcqYzsv5"
      },
      "execution_count": 273,
      "outputs": []
    },
    {
      "cell_type": "markdown",
      "source": [
        "# Função para desenhar a Malha com grades\n",
        "\n",
        "**Observação:** Aqui \"inverti\" os valores dos spins por motivos **puramente gráficos**, pois a função cmap do matplotlib considera preto para valores -1 e branco para valores +1."
      ],
      "metadata": {
        "id": "t9Bmfgmjz3R4"
      }
    },
    {
      "cell_type": "code",
      "source": [
        "def plot_with_grid(ax, matrix, title):\n",
        "    #Inverter sinal para preto = up (+1), branco = down (-1)\n",
        "    grid = -matrix\n",
        "    #Criar bordas para cada célula\n",
        "    x = np.arange(grid.shape[1] + 1)\n",
        "    y = np.arange(grid.shape[0] + 1)\n",
        "    #Colormap personalizado: branco e preto\n",
        "    cmap = plt.get_cmap('gray')\n",
        "    #Plota com células bem definidas\n",
        "    mesh = ax.pcolormesh(x, y, grid, cmap=cmap, edgecolors='gray', linewidth=0.5)\n",
        "    ax.set_aspect('equal')\n",
        "    ax.set_title(title)\n",
        "    ax.axis('off')"
      ],
      "metadata": {
        "id": "hCfr4L39z6qo"
      },
      "execution_count": 274,
      "outputs": []
    },
    {
      "cell_type": "markdown",
      "source": [
        "# Gerar o gráfico mostrando o Estado Inicial e o Estado Final após 5000 passos"
      ],
      "metadata": {
        "id": "bBlCEpMwz7kN"
      }
    },
    {
      "cell_type": "code",
      "execution_count": 275,
      "metadata": {
        "colab": {
          "base_uri": "https://localhost:8080/",
          "height": 523
        },
        "id": "MB7ao_8dPBya",
        "outputId": "dae0747b-2180-446a-80e7-cde9f5c155b7"
      },
      "outputs": [
        {
          "output_type": "display_data",
          "data": {
            "text/plain": [
              "<Figure size 1000x500 with 2 Axes>"
            ],
            "image/png": "[encoded data removed]"
          },
          "metadata": {}
        }
      ],
      "source": [
        "fig, axes = plt.subplots(1, 2, figsize=(10, 5))\n",
        "\n",
        "plot_with_grid(axes[0], s_initial, \"Estado Inicial (Preto: +1 | Branco: -1)\")\n",
        "plot_with_grid(axes[1], s, f\"Estado Final após {steps} passos\\nT = {T}\")\n",
        "\n",
        "plt.tight_layout()\n",
        "plt.show()"
      ]
    }
  ]
}